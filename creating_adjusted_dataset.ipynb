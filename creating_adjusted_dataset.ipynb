{
 "cells": [
  {
   "metadata": {
    "ExecuteTime": {
     "end_time": "2024-12-12T16:28:36.220888Z",
     "start_time": "2024-12-12T16:28:34.682345Z"
    }
   },
   "cell_type": "code",
   "source": [
    "import pandas as pd\n",
    "import openpyxl\n",
    "import seaborn as sns\n",
    "import matplotlib.pyplot as plt\n",
    "\n",
    "# Base Setup\n",
    "base_d_results = pd.read_excel(\"datasets/Dynamic_BG_results.xlsx\", \"Dynamic_BG\", header=None).T\n",
    "base_d_results = base_d_results.fillna(0)\n",
    "base_d_results.columns = base_d_results.iloc[0]\n",
    "base_d_results = base_d_results[1:]\n",
    "base_d_results.reset_index(drop=True, inplace=True)\n",
    "# display(base_d_results)\n",
    "\n",
    "result_df = pd.DataFrame(columns=[\"Year\", \"Coal Prod\", \"Gas Prod\", \"Oil Prod\"])\n",
    "\n",
    "# Extract the year information from the columns (assumed to be the first row)\n",
    "# first_numeric_col = base_d_results.apply(pd.to_numeric, errors='coerce').notna().any().idxmax()\n",
    "# print(first_numeric_col)\n",
    "years = base_d_results.columns[8:]\n",
    "print(years)\n",
    "\n",
    "# Initialize cumulative sums for Coal, Gas, and Oil\n",
    "coal_cumsum = 0\n",
    "gas_cumsum = 0\n",
    "oil_cumsum = 0\n",
    "\n",
    "# Loop through each year (column) and calculate the cumulative sums for Coal, Gas, and Oil\n",
    "for i, year in enumerate(years):\n",
    "    # Filter rows where 'mineral' is 'Coal', 'Gas', or 'Oil'\n",
    "    coal_data = base_d_results[base_d_results['mineral'] == 'Coal'].iloc[:, i].sum()\n",
    "    #print(coal_data)\n",
    "    gas_data = base_d_results[base_d_results['mineral'] == 'Gas'].iloc[:, i].sum()\n",
    "    oil_data = base_d_results[base_d_results['mineral'] == 'Oil'].iloc[:, i].sum()\n",
    "    \n",
    "    # Update the cumulative sums\n",
    "    coal_cumsum += coal_data\n",
    "    gas_cumsum += gas_data\n",
    "    oil_cumsum += oil_data\n",
    "    \n",
    "    # Append the row with the year and cumulative sums\n",
    "    result_df = result_df.append({\n",
    "        \"Year\": year,\n",
    "        \"Coal Prod\": coal_cumsum,\n",
    "        \"Gas Prod\": gas_cumsum,\n",
    "        \"Oil Prod\": oil_cumsum\n",
    "    }, ignore_index=True)\n",
    "\n",
    "# cumulative_sum = 0\n",
    "# for col in base_d_results.columns:\n",
    "#     if pd.to_numeric(base_d_results[col].iloc[0], errors='coerce', downcast='integer') == base_d_results[col].iloc[0]:  # If first row value is numeric\n",
    "#         cumulative_sum += base_d_results[col].sum()\n",
    "#         base_d_results[col] = cumulative_sum  # Update the column with the cumulative sum\n",
    "\n",
    "display(base_d_results)\n",
    "display(result_df)\n",
    "\n",
    "\n"
   ],
   "id": "6a4d384420aca38d",
   "outputs": [
    {
     "name": "stdout",
     "output_type": "stream",
     "text": [
      "1710.0\n",
      "Index([1710.0, 1711.0, 1712.0, 1713.0, 1714.0, 1715.0, 1716.0, 1717.0, 1718.0,\n",
      "       1719.0,\n",
      "       ...\n",
      "       2396.0, 2397.0, 2398.0, 2399.0, 2400.0, 2401.0, 2402.0,   2403,   2404,\n",
      "         2405],\n",
      "      dtype='object', name=0, length=696)\n"
     ]
    },
    {
     "ename": "TypeError",
     "evalue": "unsupported operand type(s) for +=: 'int' and 'str'",
     "output_type": "error",
     "traceback": [
      "\u001B[1;31m---------------------------------------------------------------------------\u001B[0m",
      "\u001B[1;31mTypeError\u001B[0m                                 Traceback (most recent call last)",
      "Cell \u001B[1;32mIn[43], line 36\u001B[0m\n\u001B[0;32m     33\u001B[0m oil_data \u001B[38;5;241m=\u001B[39m base_d_results[base_d_results[\u001B[38;5;124m'\u001B[39m\u001B[38;5;124mmineral\u001B[39m\u001B[38;5;124m'\u001B[39m] \u001B[38;5;241m==\u001B[39m \u001B[38;5;124m'\u001B[39m\u001B[38;5;124mOil\u001B[39m\u001B[38;5;124m'\u001B[39m]\u001B[38;5;241m.\u001B[39miloc[:, i]\u001B[38;5;241m.\u001B[39msum()\n\u001B[0;32m     35\u001B[0m \u001B[38;5;66;03m# Update the cumulative sums\u001B[39;00m\n\u001B[1;32m---> 36\u001B[0m \u001B[43mcoal_cumsum\u001B[49m\u001B[43m \u001B[49m\u001B[38;5;241;43m+\u001B[39;49m\u001B[38;5;241;43m=\u001B[39;49m\u001B[43m \u001B[49m\u001B[43mcoal_data\u001B[49m\n\u001B[0;32m     37\u001B[0m gas_cumsum \u001B[38;5;241m+\u001B[39m\u001B[38;5;241m=\u001B[39m gas_data\n\u001B[0;32m     38\u001B[0m oil_cumsum \u001B[38;5;241m+\u001B[39m\u001B[38;5;241m=\u001B[39m oil_data\n",
      "\u001B[1;31mTypeError\u001B[0m: unsupported operand type(s) for +=: 'int' and 'str'"
     ]
    }
   ],
   "execution_count": 43
  },
  {
   "cell_type": "code",
   "execution_count": null,
   "id": "initial_id",
   "metadata": {
    "collapsed": true
   },
   "outputs": [],
   "source": [
    "    def exploitation_ratio_adjusted(initial_year, current_year, dataset, year_column=0):\n",
    "        \"\"\"An estimate of the exploitation ratio of a fossil fuel calculated by and based on Court and Fizaine's historical\n",
    "        data. This follows a logistical growth/sigmoid function, and is used in the theoretical predictions of EROI.\"\"\"\n",
    "\n",
    "        def _exploitation_ratio_eq(year, initial_sum, total_sum):\n",
    "            return 1 + math.exp(\n",
    "                -self.resource_dict[\"delta\"][prediction] * (\n",
    "                        year - self.base_year - self.resource_dict[\"tlag\"][prediction]))\n",
    "\n",
    "        if self.prediction_type == \"all\":\n",
    "            exploitation_ratios = []\n",
    "            for prediction in c.valid_prediction_types:\n",
    "                exploitation_ratios += [_exploitation_ratio_eq(year, prediction)]\n",
    "            return exploitation_ratios\n",
    "        else:\n",
    "            return [_exploitation_ratio_eq(year, self.prediction_type)]"
   ]
  }
 ],
 "metadata": {
  "kernelspec": {
   "display_name": "Python 3",
   "language": "python",
   "name": "python3"
  },
  "language_info": {
   "codemirror_mode": {
    "name": "ipython",
    "version": 2
   },
   "file_extension": ".py",
   "mimetype": "text/x-python",
   "name": "python",
   "nbconvert_exporter": "python",
   "pygments_lexer": "ipython2",
   "version": "2.7.6"
  }
 },
 "nbformat": 4,
 "nbformat_minor": 5
}
